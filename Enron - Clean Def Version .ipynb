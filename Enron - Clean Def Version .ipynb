{
 "cells": [
  {
   "cell_type": "code",
   "execution_count": 1,
   "metadata": {
    "collapsed": false
   },
   "outputs": [
    {
     "data": {
      "text/html": [
       "<style>.container { width:100% !important; }</style>"
      ],
      "text/plain": [
       "<IPython.core.display.HTML object>"
      ]
     },
     "metadata": {},
     "output_type": "display_data"
    }
   ],
   "source": [
    "# some general settings\n",
    "from IPython.core.display import display, HTML\n",
    "display(HTML(\"<style>.container { width:100% !important; }</style>\"))\n",
    "\n",
    "import pandas as pd\n",
    "import numpy as np\n",
    "\n",
    "pd.set_option('display.float_format', lambda x: '%.5f' % x)\n",
    "np.set_printoptions(precision=6,threshold=5000,linewidth=200,suppress=True)"
   ]
  },
  {
   "cell_type": "code",
   "execution_count": 2,
   "metadata": {
    "collapsed": true
   },
   "outputs": [],
   "source": [
    "# function to walk through directories and process spam-files\n",
    "# only takes text after the first newline!! (dus dit is mijn data-opschoondeel: de header wordt overgeslagen)\n",
    "import os\n",
    "\n",
    "def read_files(path):\n",
    "    emails_text = []\n",
    "    for (dirpath, dirs_in_path, file_names) in os.walk(path):\n",
    "        for file_name in file_names:\n",
    "            lines = []\n",
    "            file_to_open = os.path.join(dirpath,file_name)\n",
    "            with open(file_to_open, 'r') as spam_file:\n",
    "                indicator = False\n",
    "                for line in spam_file:\n",
    "                    if indicator:\n",
    "                        lines.append(line)\n",
    "                    elif line == '\\n':\n",
    "                        indicator = True\n",
    "            emails_text.append(\"\\n\".join(lines))\n",
    "    return emails_text"
   ]
  },
  {
   "cell_type": "code",
   "execution_count": 3,
   "metadata": {
    "collapsed": true
   },
   "outputs": [],
   "source": [
    "#functie om data uit file in een dataframe te stoppen en df te returnen\n",
    "def df_to_append(location,class_spam,email_text):\n",
    "    df = pd.DataFrame(columns=['location','class_spam','email'])\n",
    "    df['email'] = email_text\n",
    "    df['location'] = location\n",
    "    df['class_spam'] = class_spam\n",
    "    return df"
   ]
  },
  {
   "cell_type": "code",
   "execution_count": 4,
   "metadata": {
    "collapsed": true
   },
   "outputs": [],
   "source": [
    "# location of data, and 0=ham, 1=spam\n",
    "input_emails = [\n",
    "                ['data\\\\beck-s',      0L],\n",
    "                ['data\\\\farmer-d',    0L],\n",
    "                ['data\\\\kaminski-v',  0L],\n",
    "                ['data\\\\kitchen-l',   0L],\n",
    "                ['data\\\\lokay-m',     0L],\n",
    "                ['data\\\\williams-w3', 0L],\n",
    "                ['data\\\\BG',          1L],\n",
    "                ['data\\\\GP',          1L],\n",
    "                ['data\\\\SH',          1L]\n",
    "]"
   ]
  },
  {
   "cell_type": "code",
   "execution_count": 5,
   "metadata": {
    "collapsed": true
   },
   "outputs": [],
   "source": [
    "#aanmaken van spam/ham dataset:\n",
    "\n",
    "# 1. definieren kolomnamen\n",
    "column_names = ['location','class_spam','email']\n",
    "\n",
    "# 2. aanmaken dataframe\n",
    "data = pd.DataFrame(columns=column_names)\n",
    "\n",
    "# 3. loop alle locaties af, haal emailtext per locatie op, stop die in een df en append die dan in 1 final df\n",
    "for location, class_spam in input_emails:\n",
    "    email_text = read_files(location)\n",
    "    df_to_add = df_to_append(location,class_spam,email_text)\n",
    "    data = data.append(df_to_add,ignore_index=True)"
   ]
  },
  {
   "cell_type": "code",
   "execution_count": null,
   "metadata": {
    "collapsed": true
   },
   "outputs": [],
   "source": [
    "# sla data in juiste vorm op, zodat ik dat niet telkens opnieuw hoef te doen\n",
    "from sklearn.externals import joblib\n",
    "joblib.dump(data, 'data.pkl')\n",
    "\n",
    "# om data weer te kunnen loaden moet regel hieronder geuncomment worden\n",
    "#data = joblib.load('data.pkl')"
   ]
  },
  {
   "cell_type": "code",
   "execution_count": 6,
   "metadata": {
    "collapsed": true
   },
   "outputs": [],
   "source": [
    "# aanmaken van train- en testset, location heb ik er nu buitengehouden\n",
    "from sklearn.cross_validation import train_test_split\n",
    "X_train, X_test, y_train, y_test = train_test_split(data['email'], data['class_spam'], test_size=0.20, random_state=42)"
   ]
  },
  {
   "cell_type": "code",
   "execution_count": 17,
   "metadata": {
    "collapsed": true
   },
   "outputs": [],
   "source": [
    "from sklearn.pipeline import Pipeline\n",
    "from sklearn.feature_extraction.text import CountVectorizer\n",
    "from sklearn.feature_extraction.text import TfidfTransformer\n",
    "from sklearn.naive_bayes import MultinomialNB\n",
    "from sklearn.svm import LinearSVC\n",
    "\n",
    "from sklearn.grid_search import GridSearchCV \n",
    "from sklearn.grid_search import RandomizedSearchCV\n",
    "\n",
    "count_vect = CountVectorizer(encoding=\"latin-1\") #utf-8 encoding werkte niet\n",
    "tfidf = TfidfTransformer()\n",
    "mnb = MultinomialNB()\n",
    "svc = LinearSVC()\n",
    "\n",
    "steps = [\n",
    "            ('count_vect', count_vect),\n",
    "            ('tfidf', tfidf),\n",
    "            ('mnb',mnb)\n",
    "            #('svc',svc)\n",
    "]\n",
    "\n",
    "pipeline = Pipeline(steps)\n",
    "\n",
    "# parameters die goed werkten op deze dataset:\n",
    "# ngram:(1,2), min_df: 1, max_df:0.2\n",
    "parameters = {\n",
    "                'count_vect__ngram_range':[(1,2)],                   #[(1,1),(1,2),(1,3)]\n",
    "                'count_vect__min_df':[1],                            #[1,5,10]\n",
    "                'count_vect__max_df':[0.2],                          #[0.2,0.5,1.0]\n",
    "                'tfidf__sublinear_tf':[False]                           #[True,False]\n",
    "                #,'svc__C':[0.1,1,10,1000],\n",
    "                #'svc__tol':[1e-3,1e-4,1e-5]\n",
    "}\n",
    "\n",
    "grid_search = GridSearchCV(pipeline, parameters, cv=2, n_jobs=1, scoring='roc_auc', verbose=5) #scoring measure is hier AUC ipv accuracy"
   ]
  },
  {
   "cell_type": "code",
   "execution_count": 18,
   "metadata": {
    "collapsed": false
   },
   "outputs": [
    {
     "name": "stdout",
     "output_type": "stream",
     "text": [
      "Fitting 2 folds for each of 1 candidates, totalling 2 fits\n",
      "[CV] count_vect__max_df=0.2, count_vect__min_df=1, tfidf__sublinear_tf=False, count_vect__ngram_range=(1, 2) \n",
      "[CV]  count_vect__max_df=0.2, count_vect__min_df=1, tfidf__sublinear_tf=False, count_vect__ngram_range=(1, 2), score=0.999545 - 1.2min\n",
      "[CV] count_vect__max_df=0.2, count_vect__min_df=1, tfidf__sublinear_tf=False, count_vect__ngram_range=(1, 2) \n",
      "[CV]  count_vect__max_df=0.2, count_vect__min_df=1, tfidf__sublinear_tf=False, count_vect__ngram_range=(1, 2), score=0.999689 - 1.4min\n"
     ]
    },
    {
     "name": "stderr",
     "output_type": "stream",
     "text": [
      "[Parallel(n_jobs=1)]: Done   2 out of   2 | elapsed:  2.6min finished\n"
     ]
    },
    {
     "data": {
      "text/plain": [
       "GridSearchCV(cv=2, error_score='raise',\n",
       "       estimator=Pipeline(steps=[('count_vect', CountVectorizer(analyzer=u'word', binary=False, decode_error=u'strict',\n",
       "        dtype=<type 'numpy.int64'>, encoding='latin-1', input=u'content',\n",
       "        lowercase=True, max_df=1.0, max_features=None, min_df=1,\n",
       "        ngram_range=(1, 1), preprocessor=None, stop_words=None,\n",
       "   ...False,\n",
       "         use_idf=True)), ('mnb', MultinomialNB(alpha=1.0, class_prior=None, fit_prior=True))]),\n",
       "       fit_params={}, iid=True, n_jobs=1,\n",
       "       param_grid={'count_vect__max_df': [0.2], 'count_vect__min_df': [1], 'tfidf__sublinear_tf': [False], 'count_vect__ngram_range': [(1, 2)]},\n",
       "       pre_dispatch='2*n_jobs', refit=True, scoring='roc_auc', verbose=5)"
      ]
     },
     "execution_count": 18,
     "metadata": {},
     "output_type": "execute_result"
    }
   ],
   "source": [
    "grid_search.fit(X_train,y_train)"
   ]
  },
  {
   "cell_type": "code",
   "execution_count": 19,
   "metadata": {
    "collapsed": false
   },
   "outputs": [
    {
     "data": {
      "text/plain": [
       "Pipeline(steps=[('count_vect', CountVectorizer(analyzer=u'word', binary=False, decode_error=u'strict',\n",
       "        dtype=<type 'numpy.int64'>, encoding='latin-1', input=u'content',\n",
       "        lowercase=True, max_df=0.2, max_features=None, min_df=1,\n",
       "        ngram_range=(1, 2), preprocessor=None, stop_words=None,\n",
       "   ...False,\n",
       "         use_idf=True)), ('mnb', MultinomialNB(alpha=1.0, class_prior=None, fit_prior=True))])"
      ]
     },
     "execution_count": 19,
     "metadata": {},
     "output_type": "execute_result"
    }
   ],
   "source": [
    "#bij countvect: min_df = 1, max_df = 0.2 en ngrams = (1,2)\n",
    "grid_search.best_estimator_"
   ]
  },
  {
   "cell_type": "code",
   "execution_count": null,
   "metadata": {
    "collapsed": true
   },
   "outputs": [],
   "source": [
    "#opslaan van best_estimator van de gridsearch\n",
    "#bij countvect: min_df = 1, max_df = 0.2 en ngrams = (1,2)\n",
    "joblib.dump(grid_search.best_estimator_, 'countvect_tfidf_mnbayes_best_est.pkl')\n",
    "# grid_search_best = joblib.load('countvect_tfidf_mnbayes_best_est.pkl')"
   ]
  },
  {
   "cell_type": "code",
   "execution_count": 28,
   "metadata": {
    "collapsed": false
   },
   "outputs": [
    {
     "name": "stdout",
     "output_type": "stream",
     "text": [
      "[[6580    6]\n",
      " [  76 3754]]\n"
     ]
    }
   ],
   "source": [
    "# hoe is de accuracy: printen confusion matrix\n",
    "from sklearn.metrics import confusion_matrix\n",
    "conf_matrix = confusion_matrix(y_test, grid_search.predict(X_test),labels=[1,0])\n",
    "print conf_matrix"
   ]
  },
  {
   "cell_type": "code",
   "execution_count": 39,
   "metadata": {
    "collapsed": false
   },
   "outputs": [
    {
     "data": {
      "text/plain": [
       "<matplotlib.axes._subplots.AxesSubplot at 0x353514a8>"
      ]
     },
     "execution_count": 39,
     "metadata": {},
     "output_type": "execute_result"
    },
    {
     "data": {
      "image/png": "[encoded data removed]",
      "text/plain": [
       "<matplotlib.figure.Figure at 0x350085f8>"
      ]
     },
     "metadata": {},
     "output_type": "display_data"
    }
   ],
   "source": [
    "#visualiseren confusion matrix met seaborn\n",
    "%matplotlib inline\n",
    "import seaborn as sns\n",
    "sns.heatmap(conf_matrix, annot=True, fmt=',.0f', cmap=\"Blues\", xticklabels=['predicted spam','predicted ham'], yticklabels=['true spam', 'true ham'])"
   ]
  },
  {
   "cell_type": "code",
   "execution_count": 41,
   "metadata": {
    "collapsed": false
   },
   "outputs": [
    {
     "name": "stdout",
     "output_type": "stream",
     "text": [
      "True spam, maar predicted ham: 6 = False Negatives\n",
      "True ham, maar predicted spam: 76 = False Positives\n"
     ]
    }
   ],
   "source": [
    "# hoeveel ga er nu echt fout, zowel FN als FP\n",
    "truespam_predham = conf_matrix[0,1]\n",
    "truespam_predspam = conf_matrix[0,0]\n",
    "trueham_predspam = conf_matrix[1,0]\n",
    "trueham_predham = conf_matrix[1,1]\n",
    "print \"True spam, maar predicted ham: %s = False Negatives\" %(truespam_predham)\n",
    "print \"True ham, maar predicted spam: %s = False Positives\" %(trueham_predspam)"
   ]
  },
  {
   "cell_type": "code",
   "execution_count": 25,
   "metadata": {
    "collapsed": false
   },
   "outputs": [
    {
     "name": "stderr",
     "output_type": "stream",
     "text": [
      "C:\\Datascience\\Anaconda\\lib\\site-packages\\matplotlib\\axes\\_axes.py:519: UserWarning: No labelled objects found. Use label='...' kwarg on individual plots.\n",
      "  warnings.warn(\"No labelled objects found. \"\n"
     ]
    },
    {
     "data": {
      "image/png": "[encoded data removed]",
      "text/plain": [
       "<matplotlib.figure.Figure at 0x14483278>"
      ]
     },
     "metadata": {},
     "output_type": "display_data"
    }
   ],
   "source": [
    "# printen roc curve\n",
    "from sklearn.metrics import roc_curve\n",
    "fpr, tpr, thresholds = roc_curve(y_test, grid_search.predict_proba(X_test)[:,1])\n",
    "\n",
    "from matplotlib import pyplot as plt\n",
    "plt.plot(fpr, tpr)\n",
    "plt.xlim([0, 0.01])\n",
    "plt.ylim([0, 1.00])\n",
    "plt.xlabel('False Positive Rate')\n",
    "plt.ylabel('True Positive Rate')\n",
    "plt.title('ROC-curve')\n",
    "plt.legend(loc=\"lower right\")\n",
    "plt.show()"
   ]
  },
  {
   "cell_type": "code",
   "execution_count": null,
   "metadata": {
    "collapsed": true
   },
   "outputs": [],
   "source": []
  }
 ],
 "metadata": {
  "kernelspec": {
   "display_name": "Python 2",
   "language": "python",
   "name": "python2"
  },
  "language_info": {
   "codemirror_mode": {
    "name": "ipython",
    "version": 2
   },
   "file_extension": ".py",
   "mimetype": "text/x-python",
   "name": "python",
   "nbconvert_exporter": "python",
   "pygments_lexer": "ipython2",
   "version": "2.7.11"
  }
 },
 "nbformat": 4,
 "nbformat_minor": 0
}
